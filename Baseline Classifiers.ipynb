{
 "cells": [
  {
   "cell_type": "markdown",
   "id": "401c0962",
   "metadata": {},
   "source": [
    "# Baseline Classifiers"
   ]
  },
  {
   "cell_type": "markdown",
   "id": "98768417",
   "metadata": {},
   "source": [
    "It is important to establish baseline performance on a predictive modeling problem. A baseline provides a point of \n",
    "comparison for the more advanced methods that you evaluate later.\n",
    "\n",
    "We are going to see how to implement two baseline classifiers:\n",
    "\n",
    "- Random Prediction Algorithm\n",
    "\n",
    "- ZeroR Algorithm"
   ]
  },
  {
   "cell_type": "markdown",
   "id": "60e36330",
   "metadata": {},
   "source": [
    "# Random Prediction Algorithm"
   ]
  },
  {
   "cell_type": "markdown",
   "id": "639a6978",
   "metadata": {},
   "source": [
    "Random Prediction Algorithm is going to predict the outcome randomly. It requires that you store all of the distinct outcome values in the training data."
   ]
  },
  {
   "cell_type": "code",
   "execution_count": 1,
   "id": "e0b15eea",
   "metadata": {},
   "outputs": [],
   "source": [
    "import pandas as pd\n"
   ]
  },
  {
   "cell_type": "code",
   "execution_count": 2,
   "id": "f3fe1f8e",
   "metadata": {},
   "outputs": [],
   "source": [
    "df = pd.read_csv('weather.csv')"
   ]
  },
  {
   "cell_type": "code",
   "execution_count": 3,
   "id": "6f71fd98",
   "metadata": {
    "scrolled": true
   },
   "outputs": [
    {
     "data": {
      "text/html": [
       "<div>\n",
       "<style scoped>\n",
       "    .dataframe tbody tr th:only-of-type {\n",
       "        vertical-align: middle;\n",
       "    }\n",
       "\n",
       "    .dataframe tbody tr th {\n",
       "        vertical-align: top;\n",
       "    }\n",
       "\n",
       "    .dataframe thead th {\n",
       "        text-align: right;\n",
       "    }\n",
       "</style>\n",
       "<table border=\"1\" class=\"dataframe\">\n",
       "  <thead>\n",
       "    <tr style=\"text-align: right;\">\n",
       "      <th></th>\n",
       "      <th>Outlook</th>\n",
       "      <th>Temperature</th>\n",
       "      <th>Humidity</th>\n",
       "      <th>Windy</th>\n",
       "      <th>Play</th>\n",
       "    </tr>\n",
       "  </thead>\n",
       "  <tbody>\n",
       "    <tr>\n",
       "      <th>0</th>\n",
       "      <td>sunny</td>\n",
       "      <td>hot</td>\n",
       "      <td>high</td>\n",
       "      <td>False</td>\n",
       "      <td>no</td>\n",
       "    </tr>\n",
       "    <tr>\n",
       "      <th>1</th>\n",
       "      <td>sunny</td>\n",
       "      <td>hot</td>\n",
       "      <td>high</td>\n",
       "      <td>True</td>\n",
       "      <td>no</td>\n",
       "    </tr>\n",
       "    <tr>\n",
       "      <th>2</th>\n",
       "      <td>overcast</td>\n",
       "      <td>hot</td>\n",
       "      <td>high</td>\n",
       "      <td>False</td>\n",
       "      <td>yes</td>\n",
       "    </tr>\n",
       "    <tr>\n",
       "      <th>3</th>\n",
       "      <td>rainy</td>\n",
       "      <td>mild</td>\n",
       "      <td>high</td>\n",
       "      <td>False</td>\n",
       "      <td>yes</td>\n",
       "    </tr>\n",
       "    <tr>\n",
       "      <th>4</th>\n",
       "      <td>rainy</td>\n",
       "      <td>cool</td>\n",
       "      <td>normal</td>\n",
       "      <td>False</td>\n",
       "      <td>yes</td>\n",
       "    </tr>\n",
       "  </tbody>\n",
       "</table>\n",
       "</div>"
      ],
      "text/plain": [
       "    Outlook Temperature Humidity  Windy Play\n",
       "0     sunny         hot     high  False   no\n",
       "1     sunny         hot     high   True   no\n",
       "2  overcast         hot     high  False  yes\n",
       "3     rainy        mild     high  False  yes\n",
       "4     rainy        cool   normal  False  yes"
      ]
     },
     "execution_count": 3,
     "metadata": {},
     "output_type": "execute_result"
    }
   ],
   "source": [
    "df.head()"
   ]
  },
  {
   "cell_type": "code",
   "execution_count": 4,
   "id": "701c7920",
   "metadata": {},
   "outputs": [],
   "source": [
    "# Writing a function in Python\n",
    "\n",
    "def Square(a):\n",
    "    return a*a"
   ]
  },
  {
   "cell_type": "code",
   "execution_count": 5,
   "id": "e666bb48",
   "metadata": {},
   "outputs": [
    {
     "name": "stdout",
     "output_type": "stream",
     "text": [
      "25\n"
     ]
    }
   ],
   "source": [
    "result = Square(5)\n",
    "print(result)"
   ]
  },
  {
   "cell_type": "code",
   "execution_count": 14,
   "id": "de91b9d1",
   "metadata": {},
   "outputs": [],
   "source": [
    "#Generate Random Predictions\n",
    "\n",
    "def Random_Prediction(train, test):\n",
    "    # Here train is the dataframe of the train set and test is the data frame of the test set\n",
    "    columns_train = train.columns.tolist() # columns_train now contains the names of the columns in the train set\n",
    "    print(columns_train)\n",
    "    #print(len(columns_train))\n",
    "    #print(columns_train[4])\n",
    "    target_column = columns_train[len(columns_train)-1] # We assume the last column as the target column\n",
    "    #print(target_column)\n",
    "    #print(train[target_column]) #prints all values of the target column\n",
    "    unique_vals = train[target_column].unique() # find the unique values in the target column\n",
    "    #print(unique_vals)\n",
    "    \n",
    "    actual_values_test = test[target_column]\n",
    "    #print(actual_values_test)\n",
    "    predicted = [] # Initially it is an empty list\n",
    "    import random\n",
    "    for x in actual_values_test:\n",
    "        predicted.append(random.choice(unique_vals))\n",
    "    actual_values = actual_values_test.tolist() # actual_values is a list\n",
    "    print(\"Actual values in test set\", actual_values)\n",
    "    print(\"Predicted Output         \", predicted)\n",
    "    \n",
    "    score = 0 # score represents the number of correct predictions\n",
    "    i = 0\n",
    "    for x in actual_values:\n",
    "        if(predicted[i]==x):\n",
    "            score = score + 1\n",
    "        i = i + 1\n",
    "    \n",
    "    print(score)\n",
    "   \n",
    "    print ('Accuracy in percentage: ', score*100/len(actual_values))\n",
    "   \n",
    "    "
   ]
  },
  {
   "cell_type": "code",
   "execution_count": 15,
   "id": "6b813224",
   "metadata": {},
   "outputs": [
    {
     "name": "stdout",
     "output_type": "stream",
     "text": [
      "['Outlook', 'Temperature', 'Humidity', 'Windy', 'Play']\n",
      "Actual values in test set ['no', 'no', 'yes', 'yes', 'yes', 'no', 'yes', 'no', 'yes', 'yes', 'yes', 'yes', 'yes', 'no']\n",
      "Predicted Output          ['yes', 'no', 'no', 'yes', 'no', 'yes', 'no', 'no', 'yes', 'no', 'yes', 'yes', 'yes', 'no']\n",
      "8\n",
      "Accuracy in percentage:  57.142857142857146\n"
     ]
    }
   ],
   "source": [
    "Random_Prediction(df, df)"
   ]
  },
  {
   "cell_type": "markdown",
   "id": "6487c446",
   "metadata": {},
   "source": [
    "# ZeroR Classifier"
   ]
  },
  {
   "cell_type": "code",
   "execution_count": 8,
   "id": "3be107b4",
   "metadata": {},
   "outputs": [],
   "source": [
    "def ZeroR(train, test):\n",
    "    columns_train = train.columns.tolist()\n",
    "    target_column = columns_train[len(columns_train)-1]\n",
    "    #print(target_column)\n",
    "    train_set = train[target_column]\n",
    "    \n",
    "    output = train[target_column].mode()[0]\n",
    "    print(output)\n",
    "    predicted = []\n",
    "    actual_values_test = test[target_column].tolist()\n",
    "    for x in actual_values_test:\n",
    "        predicted.append(output)\n",
    "    print(\"Actual Values: \", actual_values_test)\n",
    "    print(\"Predicted Values: \", predicted)\n",
    "    \n",
    "    score = 0\n",
    "    i = 0\n",
    "    for x in actual_values_test:\n",
    "        if(predicted[i]==x):\n",
    "            score = score + 1\n",
    "        i = i + 1\n",
    "    \n",
    "    print(score)\n",
    "   \n",
    "    print ('Accuracy in percentage: ', score*100/len(actual_values_test))\n",
    "    \n",
    "    "
   ]
  },
  {
   "cell_type": "code",
   "execution_count": 9,
   "id": "ed8d7f2b",
   "metadata": {},
   "outputs": [
    {
     "name": "stdout",
     "output_type": "stream",
     "text": [
      "yes\n",
      "Actual Values:  ['no', 'no', 'yes', 'yes', 'yes', 'no', 'yes', 'no', 'yes', 'yes', 'yes', 'yes', 'yes', 'no']\n",
      "Predicted Values:  ['yes', 'yes', 'yes', 'yes', 'yes', 'yes', 'yes', 'yes', 'yes', 'yes', 'yes', 'yes', 'yes', 'yes']\n",
      "9\n",
      "Accuracy in percentage:  64.28571428571429\n"
     ]
    }
   ],
   "source": [
    "ZeroR(df, df)"
   ]
  },
  {
   "cell_type": "markdown",
   "id": "1fe449c8",
   "metadata": {},
   "source": [
    "# Analyzing the Distribution of the Random Prediction Classifier"
   ]
  },
  {
   "cell_type": "code",
   "execution_count": 10,
   "id": "44fa822d",
   "metadata": {},
   "outputs": [],
   "source": [
    "def Random_Prediction_Version2(train, test):\n",
    "    # Here train is the dataframe of the train set and test is the data frame of the test set\n",
    "    columns_train = train.columns.tolist() # columns_train now contains the names of the columns in the train set\n",
    "    #print(columns_train)\n",
    "    #print(len(columns_train))\n",
    "    #print(columns_train[4])\n",
    "    target_column = columns_train[len(columns_train)-1] # We assume the last column as the target column\n",
    "    #print(target_column)\n",
    "    #print(train[target_column]) #prints all values of the target column\n",
    "    unique_vals = train[target_column].unique() # find the unique values in the target column\n",
    "    #print(unique_vals)\n",
    "    actual_values_test = test[target_column]\n",
    "    predicted = []\n",
    "    import random\n",
    "    for x in actual_values_test:\n",
    "        predicted.append(random.choice(unique_vals))\n",
    "    actual_values = actual_values_test.tolist()\n",
    "    #print(\"Actual values in test set\", actual_values)\n",
    "    #print(\"Predicted Output         \", predicted)\n",
    "    \n",
    "    score = 0\n",
    "    i = 0\n",
    "    for x in actual_values:\n",
    "        if(predicted[i]==x):\n",
    "            score = score + 1\n",
    "        i = i + 1\n",
    "    \n",
    "    #print(score)\n",
    "   \n",
    "    accuracy =  \"{:.2f}\".format(score*100/len(actual_values))\n",
    "    return accuracy"
   ]
  },
  {
   "cell_type": "code",
   "execution_count": 11,
   "id": "3ddbb6bd",
   "metadata": {},
   "outputs": [
    {
     "data": {
      "image/png": "[encoded data removed]",
      "text/plain": [
       "<Figure size 432x288 with 1 Axes>"
      ]
     },
     "metadata": {
      "needs_background": "light"
     },
     "output_type": "display_data"
    }
   ],
   "source": [
    "import matplotlib.pyplot as plt\n",
    "import seaborn as sns\n",
    "import numpy as np\n",
    "\n",
    "run = 200\n",
    "i = 1\n",
    "accuracy_list = []\n",
    "while(i <= run):\n",
    "    accuracy = Random_Prediction_Version2(df, df)\n",
    "    i = i+1\n",
    "    accuracy_list.append(accuracy)\n",
    "\n",
    "accuracy_list = list(np.float_(accuracy_list))\n",
    "#print(accuracy_list)\n",
    "accuracy_df = pd.DataFrame(accuracy_list, columns = ['accuracy'])\n",
    "#print(accuracy_df)\n",
    "\n",
    "sns.boxplot(data = accuracy_df, x = 'accuracy')\n",
    "sns.stripplot(data = accuracy_df, x = 'accuracy', color = 'black');\n",
    "\n",
    "\n"
   ]
  },
  {
   "cell_type": "code",
   "execution_count": 12,
   "id": "cc64fa0b",
   "metadata": {},
   "outputs": [
    {
     "data": {
      "image/png": "[encoded data removed]",
      "text/plain": [
       "<Figure size 432x288 with 1 Axes>"
      ]
     },
     "metadata": {
      "needs_background": "light"
     },
     "output_type": "display_data"
    }
   ],
   "source": [
    "sns.histplot(data = accuracy_df, x = 'accuracy', kde = True, color = 'red');"
   ]
  },
  {
   "cell_type": "code",
   "execution_count": 13,
   "id": "c287989f",
   "metadata": {},
   "outputs": [
    {
     "name": "stdout",
     "output_type": "stream",
     "text": [
      "Mean Accuracy:  50.50025000000001\n",
      "Standard Deviation:  14.006928408380618\n",
      "Accuracy:  50.50025000000001 +/- 14.006928408380618\n"
     ]
    }
   ],
   "source": [
    "print(\"Mean Accuracy: \", np.mean(accuracy_list))\n",
    "print(\"Standard Deviation: \", np.std(accuracy_list))\n",
    "\n",
    "print(\"Accuracy: \",  np.mean(accuracy_list), \"+/-\", np.std(accuracy_list))"
   ]
  }
 ],
 "metadata": {
  "kernelspec": {
   "display_name": "Python 3",
   "language": "python",
   "name": "python3"
  },
  "language_info": {
   "codemirror_mode": {
    "name": "ipython",
    "version": 3
   },
   "file_extension": ".py",
   "mimetype": "text/x-python",
   "name": "python",
   "nbconvert_exporter": "python",
   "pygments_lexer": "ipython3",
   "version": "3.8.8"
  }
 },
 "nbformat": 4,
 "nbformat_minor": 5
}
